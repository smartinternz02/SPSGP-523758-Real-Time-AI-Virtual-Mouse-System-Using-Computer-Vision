{
  "nbformat": 4,
  "nbformat_minor": 0,
  "metadata": {
    "colab": {
      "provenance": []
    },
    "kernelspec": {
      "name": "python3",
      "display_name": "Python 3"
    },
    "language_info": {
      "name": "python"
    }
  },
  "cells": [
    {
      "cell_type": "code",
      "source": [
        "#Task-1\n",
        "import pandas as pd\n",
        "import numpy as np\n",
        "np.random.seed(42)\n",
        "random_values = np.random.randn(4, 4)\n",
        "df = pd.DataFrame(random_values, columns=['Feature 1', 'Feature 2', 'Feature 3', 'Feature 4'])\n",
        "print(df)"
      ],
      "metadata": {
        "id": "C7112m_tIxWR",
        "colab": {
          "base_uri": "https://localhost:8080/"
        },
        "outputId": "00f1e471-84ac-457b-ee75-6e8630f05540"
      },
      "execution_count": 1,
      "outputs": [
        {
          "output_type": "stream",
          "name": "stdout",
          "text": [
            "   Feature 1  Feature 2  Feature 3  Feature 4\n",
            "0   0.496714  -0.138264   0.647689   1.523030\n",
            "1  -0.234153  -0.234137   1.579213   0.767435\n",
            "2  -0.469474   0.542560  -0.463418  -0.465730\n",
            "3   0.241962  -1.913280  -1.724918  -0.562288\n"
          ]
        }
      ]
    },
    {
      "cell_type": "code",
      "source": [
        "#Task-2\n",
        "new_column_names = {\n",
        "    'Feature 1': 'Random value 1',\n",
        "    'Feature 2': 'Random value 2',\n",
        "    'Feature 3': 'Random value 3',\n",
        "    'Feature 4': 'Random value 4'\n",
        "}\n",
        "df = df.rename(columns=new_column_names)\n",
        "print(df)"
      ],
      "metadata": {
        "colab": {
          "base_uri": "https://localhost:8080/"
        },
        "id": "90TgZho6zoFu",
        "outputId": "77adddd9-bb9f-4bf3-b06f-8d39b7e8aa88"
      },
      "execution_count": 2,
      "outputs": [
        {
          "output_type": "stream",
          "name": "stdout",
          "text": [
            "   Random value 1  Random value 2  Random value 3  Random value 4\n",
            "0        0.496714       -0.138264        0.647689        1.523030\n",
            "1       -0.234153       -0.234137        1.579213        0.767435\n",
            "2       -0.469474        0.542560       -0.463418       -0.465730\n",
            "3        0.241962       -1.913280       -1.724918       -0.562288\n"
          ]
        }
      ]
    },
    {
      "cell_type": "code",
      "source": [
        "#Task-3\n",
        "df.describe()"
      ],
      "metadata": {
        "colab": {
          "base_uri": "https://localhost:8080/",
          "height": 301
        },
        "id": "niU88cv_09vH",
        "outputId": "00080aab-2c94-425b-8ede-1af0476f27e5"
      },
      "execution_count": 3,
      "outputs": [
        {
          "output_type": "execute_result",
          "data": {
            "text/plain": [
              "       Random value 1  Random value 2  Random value 3  Random value 4\n",
              "count        4.000000        4.000000        4.000000        4.000000\n",
              "mean         0.008762       -0.435780        0.009641        0.315612\n",
              "std          0.439772        1.043924        1.426317        1.007175\n",
              "min         -0.469474       -1.913280       -1.724918       -0.562288\n",
              "25%         -0.292984       -0.653923       -0.778793       -0.489869\n",
              "50%          0.003904       -0.186201        0.092135        0.150852\n",
              "75%          0.305650        0.031942        0.880570        0.956334\n",
              "max          0.496714        0.542560        1.579213        1.523030"
            ],
            "text/html": [
              "\n",
              "  <div id=\"df-ccc1b9a5-06da-4e56-868e-e31b4698eda3\">\n",
              "    <div class=\"colab-df-container\">\n",
              "      <div>\n",
              "<style scoped>\n",
              "    .dataframe tbody tr th:only-of-type {\n",
              "        vertical-align: middle;\n",
              "    }\n",
              "\n",
              "    .dataframe tbody tr th {\n",
              "        vertical-align: top;\n",
              "    }\n",
              "\n",
              "    .dataframe thead th {\n",
              "        text-align: right;\n",
              "    }\n",
              "</style>\n",
              "<table border=\"1\" class=\"dataframe\">\n",
              "  <thead>\n",
              "    <tr style=\"text-align: right;\">\n",
              "      <th></th>\n",
              "      <th>Random value 1</th>\n",
              "      <th>Random value 2</th>\n",
              "      <th>Random value 3</th>\n",
              "      <th>Random value 4</th>\n",
              "    </tr>\n",
              "  </thead>\n",
              "  <tbody>\n",
              "    <tr>\n",
              "      <th>count</th>\n",
              "      <td>4.000000</td>\n",
              "      <td>4.000000</td>\n",
              "      <td>4.000000</td>\n",
              "      <td>4.000000</td>\n",
              "    </tr>\n",
              "    <tr>\n",
              "      <th>mean</th>\n",
              "      <td>0.008762</td>\n",
              "      <td>-0.435780</td>\n",
              "      <td>0.009641</td>\n",
              "      <td>0.315612</td>\n",
              "    </tr>\n",
              "    <tr>\n",
              "      <th>std</th>\n",
              "      <td>0.439772</td>\n",
              "      <td>1.043924</td>\n",
              "      <td>1.426317</td>\n",
              "      <td>1.007175</td>\n",
              "    </tr>\n",
              "    <tr>\n",
              "      <th>min</th>\n",
              "      <td>-0.469474</td>\n",
              "      <td>-1.913280</td>\n",
              "      <td>-1.724918</td>\n",
              "      <td>-0.562288</td>\n",
              "    </tr>\n",
              "    <tr>\n",
              "      <th>25%</th>\n",
              "      <td>-0.292984</td>\n",
              "      <td>-0.653923</td>\n",
              "      <td>-0.778793</td>\n",
              "      <td>-0.489869</td>\n",
              "    </tr>\n",
              "    <tr>\n",
              "      <th>50%</th>\n",
              "      <td>0.003904</td>\n",
              "      <td>-0.186201</td>\n",
              "      <td>0.092135</td>\n",
              "      <td>0.150852</td>\n",
              "    </tr>\n",
              "    <tr>\n",
              "      <th>75%</th>\n",
              "      <td>0.305650</td>\n",
              "      <td>0.031942</td>\n",
              "      <td>0.880570</td>\n",
              "      <td>0.956334</td>\n",
              "    </tr>\n",
              "    <tr>\n",
              "      <th>max</th>\n",
              "      <td>0.496714</td>\n",
              "      <td>0.542560</td>\n",
              "      <td>1.579213</td>\n",
              "      <td>1.523030</td>\n",
              "    </tr>\n",
              "  </tbody>\n",
              "</table>\n",
              "</div>\n",
              "      <button class=\"colab-df-convert\" onclick=\"convertToInteractive('df-ccc1b9a5-06da-4e56-868e-e31b4698eda3')\"\n",
              "              title=\"Convert this dataframe to an interactive table.\"\n",
              "              style=\"display:none;\">\n",
              "        \n",
              "  <svg xmlns=\"http://www.w3.org/2000/svg\" height=\"24px\"viewBox=\"0 0 24 24\"\n",
              "       width=\"24px\">\n",
              "    <path d=\"M0 0h24v24H0V0z\" fill=\"none\"/>\n",
              "    <path d=\"M18.56 5.44l.94 2.06.94-2.06 2.06-.94-2.06-.94-.94-2.06-.94 2.06-2.06.94zm-11 1L8.5 8.5l.94-2.06 2.06-.94-2.06-.94L8.5 2.5l-.94 2.06-2.06.94zm10 10l.94 2.06.94-2.06 2.06-.94-2.06-.94-.94-2.06-.94 2.06-2.06.94z\"/><path d=\"M17.41 7.96l-1.37-1.37c-.4-.4-.92-.59-1.43-.59-.52 0-1.04.2-1.43.59L10.3 9.45l-7.72 7.72c-.78.78-.78 2.05 0 2.83L4 21.41c.39.39.9.59 1.41.59.51 0 1.02-.2 1.41-.59l7.78-7.78 2.81-2.81c.8-.78.8-2.07 0-2.86zM5.41 20L4 18.59l7.72-7.72 1.47 1.35L5.41 20z\"/>\n",
              "  </svg>\n",
              "      </button>\n",
              "      \n",
              "  <style>\n",
              "    .colab-df-container {\n",
              "      display:flex;\n",
              "      flex-wrap:wrap;\n",
              "      gap: 12px;\n",
              "    }\n",
              "\n",
              "    .colab-df-convert {\n",
              "      background-color: #E8F0FE;\n",
              "      border: none;\n",
              "      border-radius: 50%;\n",
              "      cursor: pointer;\n",
              "      display: none;\n",
              "      fill: #1967D2;\n",
              "      height: 32px;\n",
              "      padding: 0 0 0 0;\n",
              "      width: 32px;\n",
              "    }\n",
              "\n",
              "    .colab-df-convert:hover {\n",
              "      background-color: #E2EBFA;\n",
              "      box-shadow: 0px 1px 2px rgba(60, 64, 67, 0.3), 0px 1px 3px 1px rgba(60, 64, 67, 0.15);\n",
              "      fill: #174EA6;\n",
              "    }\n",
              "\n",
              "    [theme=dark] .colab-df-convert {\n",
              "      background-color: #3B4455;\n",
              "      fill: #D2E3FC;\n",
              "    }\n",
              "\n",
              "    [theme=dark] .colab-df-convert:hover {\n",
              "      background-color: #434B5C;\n",
              "      box-shadow: 0px 1px 3px 1px rgba(0, 0, 0, 0.15);\n",
              "      filter: drop-shadow(0px 1px 2px rgba(0, 0, 0, 0.3));\n",
              "      fill: #FFFFFF;\n",
              "    }\n",
              "  </style>\n",
              "\n",
              "      <script>\n",
              "        const buttonEl =\n",
              "          document.querySelector('#df-ccc1b9a5-06da-4e56-868e-e31b4698eda3 button.colab-df-convert');\n",
              "        buttonEl.style.display =\n",
              "          google.colab.kernel.accessAllowed ? 'block' : 'none';\n",
              "\n",
              "        async function convertToInteractive(key) {\n",
              "          const element = document.querySelector('#df-ccc1b9a5-06da-4e56-868e-e31b4698eda3');\n",
              "          const dataTable =\n",
              "            await google.colab.kernel.invokeFunction('convertToInteractive',\n",
              "                                                     [key], {});\n",
              "          if (!dataTable) return;\n",
              "\n",
              "          const docLinkHtml = 'Like what you see? Visit the ' +\n",
              "            '<a target=\"_blank\" href=https://colab.research.google.com/notebooks/data_table.ipynb>data table notebook</a>'\n",
              "            + ' to learn more about interactive tables.';\n",
              "          element.innerHTML = '';\n",
              "          dataTable['output_type'] = 'display_data';\n",
              "          await google.colab.output.renderOutput(dataTable, element);\n",
              "          const docLink = document.createElement('div');\n",
              "          docLink.innerHTML = docLinkHtml;\n",
              "          element.appendChild(docLink);\n",
              "        }\n",
              "      </script>\n",
              "    </div>\n",
              "  </div>\n",
              "  "
            ]
          },
          "metadata": {},
          "execution_count": 3
        }
      ]
    },
    {
      "cell_type": "code",
      "source": [
        "#Task-4\n",
        "null_values = df.isnull().sum()\n",
        "data_types = df.dtypes\n",
        "print(\"Null Values:\")\n",
        "print(null_values)\n",
        "print(\"\\nData Types:\")\n",
        "print(data_types)"
      ],
      "metadata": {
        "colab": {
          "base_uri": "https://localhost:8080/"
        },
        "id": "laPrVEvd1M-Q",
        "outputId": "3657ceab-b902-48ee-9aba-bdc1803e8ad3"
      },
      "execution_count": 4,
      "outputs": [
        {
          "output_type": "stream",
          "name": "stdout",
          "text": [
            "Null Values:\n",
            "Random value 1    0\n",
            "Random value 2    0\n",
            "Random value 3    0\n",
            "Random value 4    0\n",
            "dtype: int64\n",
            "\n",
            "Data Types:\n",
            "Random value 1    float64\n",
            "Random value 2    float64\n",
            "Random value 3    float64\n",
            "Random value 4    float64\n",
            "dtype: object\n"
          ]
        }
      ]
    },
    {
      "cell_type": "code",
      "source": [
        "#Task-5\n",
        "columns_loc = df.loc[:, ['Random value 2', 'Random value 3']]\n",
        "print(\"Using the location method:\")\n",
        "print(columns_loc)\n",
        "\n",
        "columns_iloc = df.iloc[:, [1, 2]]\n",
        "print(\"\\nUsing the index location method:\")\n",
        "print(columns_iloc)"
      ],
      "metadata": {
        "colab": {
          "base_uri": "https://localhost:8080/"
        },
        "id": "j72fq00u1rvR",
        "outputId": "b398e2a5-2b68-49c0-a66f-e445ea15fcae"
      },
      "execution_count": 6,
      "outputs": [
        {
          "output_type": "stream",
          "name": "stdout",
          "text": [
            "Using the location method:\n",
            "   Random value 2  Random value 3\n",
            "0       -0.138264        0.647689\n",
            "1       -0.234137        1.579213\n",
            "2        0.542560       -0.463418\n",
            "3       -1.913280       -1.724918\n",
            "\n",
            "Using the index location method:\n",
            "   Random value 2  Random value 3\n",
            "0       -0.138264        0.647689\n",
            "1       -0.234137        1.579213\n",
            "2        0.542560       -0.463418\n",
            "3       -1.913280       -1.724918\n"
          ]
        }
      ]
    }
  ]
}